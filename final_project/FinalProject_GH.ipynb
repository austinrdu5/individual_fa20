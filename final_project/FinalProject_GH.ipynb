{
 "cells": [
  {
   "cell_type": "markdown",
   "metadata": {},
   "source": [
    "# COGS 108 - Final Project "
   ]
  },
  {
   "cell_type": "markdown",
   "metadata": {},
   "source": [
    "# Overview"
   ]
  },
  {
   "cell_type": "markdown",
   "metadata": {},
   "source": [
    "The project studied the relationship between park accessibility and the public perception of those parks. Through a combination of population proximity data from the California Department of Health and Yelp ratings for parks in San Diego, we concluded that an increased availability of parks does not imply improved perception of parks among Yelp users. This conclusion was extended, though conservatively, to the population of San Diego."
   ]
  },
  {
   "cell_type": "markdown",
   "metadata": {},
   "source": [
    "# Name & GitHub ID\n",
    "\n",
    "- Name: Austin Du\n",
    "- GitHub Username: austinrdu5"
   ]
  },
  {
   "cell_type": "markdown",
   "metadata": {},
   "source": [
    "# Research Question"
   ]
  },
  {
   "cell_type": "markdown",
   "metadata": {},
   "source": [
    "Do regions (designated CDPs) with greater access to parks produce higher (Yelp) ratings for their parks?"
   ]
  },
  {
   "cell_type": "markdown",
   "metadata": {},
   "source": [
    "## Background and Prior Work"
   ]
  },
  {
   "cell_type": "markdown",
   "metadata": {},
   "source": [
    "Many believe parks to be beneficial to the human experience in multifaceted ways, from relieving anxiety to interacting more with community. Given these benefits, one would assume that parks should be an integral part in many communities. However, at least at the city level, researchers have long confirmed that park access is largely unequal [1]. Many socio-economic factors were found to be correlated to this discrepancy, including population density, job density, and poverty rate. [2]. As a result, the access to parks remains a contentious issue, offering some potentially unique solutions to city-specific issues.\n",
    "\n",
    "While the above-mentioned studies reflect overall benefits of parks within a community, many proposed municipal changes often face resistance from city residents [3]. As a result, the interesting question arises of whether public perception of parks matches the resident satisfation that the prior research alludes to. Insofar as a Google search, this question has not been explicitly explored before.\n",
    "\n",
    "References (include links):\n",
    "- 1) https://ij-healthgeographics.biomedcentral.com/articles/10.1186/1476-072X-8-34\n",
    "- 2) https://www.brookings.edu/blog/the-avenue/2019/08/21/parks-make-great-places-but-not-enough-americans-can-reach-them/\n",
    "- 3) https://www.post-gazette.com/local/city/2019/10/31/Parks-referendum-to-ask-city-residents-to-raise-their-taxes/stories/201910310164"
   ]
  },
  {
   "cell_type": "markdown",
   "metadata": {},
   "source": [
    "# Hypothesis\n"
   ]
  },
  {
   "cell_type": "markdown",
   "metadata": {},
   "source": [
    "Regions with greater access to parks do not give their parks higher ratings. Despite the greater presence and accessibility of the parks, many residents would be either indifferent or unaware of the park's positive impact on their community."
   ]
  },
  {
   "cell_type": "markdown",
   "metadata": {},
   "source": [
    "# Dataset(s)"
   ]
  },
  {
   "cell_type": "markdown",
   "metadata": {},
   "source": [
    "- Dataset Name: San Diego Parks Yelp Data\n",
    "- Link to the dataset: https://www.yelp.com/ (provided by Prof Ellis)\n",
    "- Number of observations: 834\n",
    "\n",
    "List of all parks within San Diego county containing data about ratings, reviews, and location.\n",
    "\n",
    "- Dataset Name: CA Access to Parks Data\n",
    "- Link to the dataset: https://data.ca.gov/dataset/park-beach-open-space-or-coastline-access\n",
    "- Number of observations: 543187\n",
    "\n",
    "Data for proportion of population within 1/2 mile to a park, beach, open space, or coastline. Rows are divided into categories pertaining to demographic and granularity of the geographic region (city, county, state, etc.).\n",
    "\n",
    "From the first dataset, we will extract ratings, corresponding to the park zip codes. Those zip codes will be used to relate park ratings to a general region, for which we will have the park-access metric from the second dataset."
   ]
  },
  {
   "cell_type": "markdown",
   "metadata": {},
   "source": [
    "# Setup"
   ]
  },
  {
   "cell_type": "code",
   "execution_count": 278,
   "metadata": {},
   "outputs": [],
   "source": [
    "import pandas as pd\n",
    "import numpy as np\n",
    "import seaborn as sns\n",
    "import matplotlib.pyplot as plt\n",
    "from bs4 import BeautifulSoup as bs\n",
    "import requests\n",
    "import time\n",
    "import sklearn\n",
    "from sklearn.linear_model import LinearRegression\n",
    "import scipy.stats as stat"
   ]
  },
  {
   "cell_type": "code",
   "execution_count": 2,
   "metadata": {},
   "outputs": [],
   "source": [
    "yelp_raw = pd.read_csv('../data/yelp_SD_parks.csv', \n",
    "                       usecols = ['address', 'rating', 'review_count'], \n",
    "                      )\n",
    "\n",
    "parks_raw = pd.read_excel('../data/hci_accesstoparks_469_ca_re_co_cd_pl_ct-7-3-2017-ada.xlsx',\n",
    "                          skiprows = np.arange(1,460000),\n",
    "                          usecols = ['race_eth_name', 'geotype', 'geoname', 'county_name', 'strata_one_name', 'numerator',\n",
    "                                 'denominator', 'estimate', 'll_95ci', 'ul_95ci', 'se', 'rse'],\n",
    "                         )"
   ]
  },
  {
   "cell_type": "code",
   "execution_count": 22,
   "metadata": {},
   "outputs": [
    {
     "data": {
      "text/html": [
       "<div>\n",
       "<style scoped>\n",
       "    .dataframe tbody tr th:only-of-type {\n",
       "        vertical-align: middle;\n",
       "    }\n",
       "\n",
       "    .dataframe tbody tr th {\n",
       "        vertical-align: top;\n",
       "    }\n",
       "\n",
       "    .dataframe thead th {\n",
       "        text-align: right;\n",
       "    }\n",
       "</style>\n",
       "<table border=\"1\" class=\"dataframe\">\n",
       "  <thead>\n",
       "    <tr style=\"text-align: right;\">\n",
       "      <th></th>\n",
       "      <th>address</th>\n",
       "      <th>rating</th>\n",
       "      <th>review_count</th>\n",
       "    </tr>\n",
       "  </thead>\n",
       "  <tbody>\n",
       "    <tr>\n",
       "      <th>0</th>\n",
       "      <td>1549 El Prado San Diego, CA 92101</td>\n",
       "      <td>5.0</td>\n",
       "      <td>2105</td>\n",
       "    </tr>\n",
       "    <tr>\n",
       "      <th>1</th>\n",
       "      <td>7960 Civita Blvd San Diego, CA 92108</td>\n",
       "      <td>4.5</td>\n",
       "      <td>46</td>\n",
       "    </tr>\n",
       "    <tr>\n",
       "      <th>2</th>\n",
       "      <td>1600 Pacific Hwy San Diego, CA 92101</td>\n",
       "      <td>4.5</td>\n",
       "      <td>242</td>\n",
       "    </tr>\n",
       "    <tr>\n",
       "      <th>3</th>\n",
       "      <td>Adams Ave And Florida St San Diego, CA 92116</td>\n",
       "      <td>4.5</td>\n",
       "      <td>102</td>\n",
       "    </tr>\n",
       "    <tr>\n",
       "      <th>4</th>\n",
       "      <td>413 1st St Coronado, CA 92118</td>\n",
       "      <td>5.0</td>\n",
       "      <td>42</td>\n",
       "    </tr>\n",
       "  </tbody>\n",
       "</table>\n",
       "</div>"
      ],
      "text/plain": [
       "                                        address  rating  review_count\n",
       "0             1549 El Prado San Diego, CA 92101     5.0          2105\n",
       "1          7960 Civita Blvd San Diego, CA 92108     4.5            46\n",
       "2          1600 Pacific Hwy San Diego, CA 92101     4.5           242\n",
       "3  Adams Ave And Florida St San Diego, CA 92116     4.5           102\n",
       "4                 413 1st St Coronado, CA 92118     5.0            42"
      ]
     },
     "execution_count": 22,
     "metadata": {},
     "output_type": "execute_result"
    }
   ],
   "source": [
    "yelp_raw.head()"
   ]
  },
  {
   "cell_type": "code",
   "execution_count": 4,
   "metadata": {},
   "outputs": [
    {
     "data": {
      "text/html": [
       "<div>\n",
       "<style scoped>\n",
       "    .dataframe tbody tr th:only-of-type {\n",
       "        vertical-align: middle;\n",
       "    }\n",
       "\n",
       "    .dataframe tbody tr th {\n",
       "        vertical-align: top;\n",
       "    }\n",
       "\n",
       "    .dataframe thead th {\n",
       "        text-align: right;\n",
       "    }\n",
       "</style>\n",
       "<table border=\"1\" class=\"dataframe\">\n",
       "  <thead>\n",
       "    <tr style=\"text-align: right;\">\n",
       "      <th></th>\n",
       "      <th>race_eth_name</th>\n",
       "      <th>geotype</th>\n",
       "      <th>geoname</th>\n",
       "      <th>county_name</th>\n",
       "      <th>strata_one_name</th>\n",
       "      <th>numerator</th>\n",
       "      <th>denominator</th>\n",
       "      <th>estimate</th>\n",
       "      <th>ll_95ci</th>\n",
       "      <th>ul_95ci</th>\n",
       "      <th>se</th>\n",
       "      <th>rse</th>\n",
       "    </tr>\n",
       "  </thead>\n",
       "  <tbody>\n",
       "    <tr>\n",
       "      <th>0</th>\n",
       "      <td>NHOPI</td>\n",
       "      <td>PL</td>\n",
       "      <td>Adin CDP</td>\n",
       "      <td>Modoc</td>\n",
       "      <td>State</td>\n",
       "      <td>0.0</td>\n",
       "      <td>0.0</td>\n",
       "      <td>NaN</td>\n",
       "      <td>NaN</td>\n",
       "      <td>NaN</td>\n",
       "      <td>NaN</td>\n",
       "      <td>NaN</td>\n",
       "    </tr>\n",
       "    <tr>\n",
       "      <th>1</th>\n",
       "      <td>NHOPI</td>\n",
       "      <td>PL</td>\n",
       "      <td>Adin CDP</td>\n",
       "      <td>Modoc</td>\n",
       "      <td>Other</td>\n",
       "      <td>0.0</td>\n",
       "      <td>0.0</td>\n",
       "      <td>NaN</td>\n",
       "      <td>NaN</td>\n",
       "      <td>NaN</td>\n",
       "      <td>NaN</td>\n",
       "      <td>NaN</td>\n",
       "    </tr>\n",
       "    <tr>\n",
       "      <th>2</th>\n",
       "      <td>NHOPI</td>\n",
       "      <td>PL</td>\n",
       "      <td>Adin CDP</td>\n",
       "      <td>Modoc</td>\n",
       "      <td>Total</td>\n",
       "      <td>0.0</td>\n",
       "      <td>0.0</td>\n",
       "      <td>NaN</td>\n",
       "      <td>NaN</td>\n",
       "      <td>NaN</td>\n",
       "      <td>NaN</td>\n",
       "      <td>NaN</td>\n",
       "    </tr>\n",
       "    <tr>\n",
       "      <th>3</th>\n",
       "      <td>White</td>\n",
       "      <td>PL</td>\n",
       "      <td>Adin CDP</td>\n",
       "      <td>Modoc</td>\n",
       "      <td>City</td>\n",
       "      <td>0.0</td>\n",
       "      <td>224.0</td>\n",
       "      <td>0.0</td>\n",
       "      <td>0.0</td>\n",
       "      <td>0.0</td>\n",
       "      <td>0.0</td>\n",
       "      <td>NaN</td>\n",
       "    </tr>\n",
       "    <tr>\n",
       "      <th>4</th>\n",
       "      <td>White</td>\n",
       "      <td>PL</td>\n",
       "      <td>Adin CDP</td>\n",
       "      <td>Modoc</td>\n",
       "      <td>County</td>\n",
       "      <td>0.0</td>\n",
       "      <td>224.0</td>\n",
       "      <td>0.0</td>\n",
       "      <td>0.0</td>\n",
       "      <td>0.0</td>\n",
       "      <td>0.0</td>\n",
       "      <td>NaN</td>\n",
       "    </tr>\n",
       "  </tbody>\n",
       "</table>\n",
       "</div>"
      ],
      "text/plain": [
       "  race_eth_name geotype   geoname county_name strata_one_name  numerator  \\\n",
       "0         NHOPI      PL  Adin CDP       Modoc           State        0.0   \n",
       "1         NHOPI      PL  Adin CDP       Modoc           Other        0.0   \n",
       "2         NHOPI      PL  Adin CDP       Modoc           Total        0.0   \n",
       "3         White      PL  Adin CDP       Modoc            City        0.0   \n",
       "4         White      PL  Adin CDP       Modoc          County        0.0   \n",
       "\n",
       "   denominator  estimate  ll_95ci  ul_95ci   se  rse  \n",
       "0          0.0       NaN      NaN      NaN  NaN  NaN  \n",
       "1          0.0       NaN      NaN      NaN  NaN  NaN  \n",
       "2          0.0       NaN      NaN      NaN  NaN  NaN  \n",
       "3        224.0       0.0      0.0      0.0  0.0  NaN  \n",
       "4        224.0       0.0      0.0      0.0  0.0  NaN  "
      ]
     },
     "execution_count": 4,
     "metadata": {},
     "output_type": "execute_result"
    }
   ],
   "source": [
    "parks_raw.head()"
   ]
  },
  {
   "cell_type": "markdown",
   "metadata": {},
   "source": [
    "# Data Cleaning"
   ]
  },
  {
   "cell_type": "markdown",
   "metadata": {},
   "source": [
    "In the Yelp data, we used the addresses of the parks to extract only the zip codes. 5 zip codes were missing. Those that were real parks had their zip codes manually inputted after a quick Google Search. Those that were not parks were omitted from the dataframe. We then take the average park rating in a zip code, weighted by the number of reviews. \n",
    "\n",
    "In the park accessibility data, we first filtered for only regions in San Diego. We then Considered only the rows of combined individuals. That is, we look only at the entire geographical region (instead of finer subdivisions) and only at total population (instead of distinguishing by race/ethnicity). The first choice was justified because a cursory examination of the data revealed that any smaller geographical subdivisions often produced too few data points to be reliable (see next paragraph). The second choice was less justified, but shapes this project into a more comprehensive analysis. Future reports, grouped by race/ethnicity should be conducted. Lastly, we limited our estimates to those whose Relative Standard Errors were smaller than 30%, based on a recommendation within the dataset.\n",
    "\n",
    "To combine the data, we had to assign the zip codes in the first dataframe to the region names in the second. This was done by scraping Wikipedia pages for the regions. Once this was done, and complications (repeated/missing zip codes) were resolved, we joined the two dataframes and proceed to analysis."
   ]
  },
  {
   "cell_type": "markdown",
   "metadata": {},
   "source": [
    "### Yelp Dataset"
   ]
  },
  {
   "cell_type": "code",
   "execution_count": 5,
   "metadata": {},
   "outputs": [],
   "source": [
    "# get zip codes \n",
    "yelp = yelp_raw.assign(zip_code = yelp_raw.address.str.split().str[-1]).drop('address', 1)\n",
    "\n",
    "# edge cases that were missing zip codes\n",
    "yelp.iloc[226, 2] = '92114'    # for Officer Christopher Wilson Memorial Park\n",
    "yelp.iloc[747, 2] = '92129'    # for Miner's Ridge Loop Trail\n",
    "yelp.drop(314, inplace = True) # for City of Otay Mesa (not a park)\n",
    "yelp.drop(312, inplace = True) # for Arco del Milenio (not in San Diego)\n",
    "yelp.drop(556, inplace = True) # for Parque Teniente Guerrero (not in San Diego)"
   ]
  },
  {
   "cell_type": "markdown",
   "metadata": {},
   "source": [
    "### Park-access Dataset"
   ]
  },
  {
   "cell_type": "code",
   "execution_count": 6,
   "metadata": {},
   "outputs": [
    {
     "data": {
      "text/html": [
       "<div>\n",
       "<style scoped>\n",
       "    .dataframe tbody tr th:only-of-type {\n",
       "        vertical-align: middle;\n",
       "    }\n",
       "\n",
       "    .dataframe tbody tr th {\n",
       "        vertical-align: top;\n",
       "    }\n",
       "\n",
       "    .dataframe thead th {\n",
       "        text-align: right;\n",
       "    }\n",
       "</style>\n",
       "<table border=\"1\" class=\"dataframe\">\n",
       "  <thead>\n",
       "    <tr style=\"text-align: right;\">\n",
       "      <th></th>\n",
       "      <th>geoname</th>\n",
       "      <th>numerator</th>\n",
       "      <th>denominator</th>\n",
       "      <th>estimate</th>\n",
       "      <th>ll_95ci</th>\n",
       "      <th>ul_95ci</th>\n",
       "      <th>se</th>\n",
       "      <th>rse</th>\n",
       "    </tr>\n",
       "  </thead>\n",
       "  <tbody>\n",
       "    <tr>\n",
       "      <th>1106</th>\n",
       "      <td>Alpine</td>\n",
       "      <td>6576.0</td>\n",
       "      <td>14236.0</td>\n",
       "      <td>46.192751</td>\n",
       "      <td>45.373778</td>\n",
       "      <td>47.011723</td>\n",
       "      <td>0.417843</td>\n",
       "      <td>0.904564</td>\n",
       "    </tr>\n",
       "    <tr>\n",
       "      <th>7154</th>\n",
       "      <td>Bonita</td>\n",
       "      <td>12419.0</td>\n",
       "      <td>12538.0</td>\n",
       "      <td>99.050885</td>\n",
       "      <td>98.881166</td>\n",
       "      <td>99.220604</td>\n",
       "      <td>0.086591</td>\n",
       "      <td>9.123379</td>\n",
       "    </tr>\n",
       "    <tr>\n",
       "      <th>7262</th>\n",
       "      <td>Bonsall</td>\n",
       "      <td>1609.0</td>\n",
       "      <td>3982.0</td>\n",
       "      <td>40.406831</td>\n",
       "      <td>38.882669</td>\n",
       "      <td>41.930993</td>\n",
       "      <td>0.777634</td>\n",
       "      <td>1.924510</td>\n",
       "    </tr>\n",
       "    <tr>\n",
       "      <th>7532</th>\n",
       "      <td>Borrego Springs</td>\n",
       "      <td>1957.0</td>\n",
       "      <td>3429.0</td>\n",
       "      <td>57.072033</td>\n",
       "      <td>55.415293</td>\n",
       "      <td>58.728772</td>\n",
       "      <td>0.845275</td>\n",
       "      <td>1.969055</td>\n",
       "    </tr>\n",
       "    <tr>\n",
       "      <th>7586</th>\n",
       "      <td>Bostonia</td>\n",
       "      <td>2726.0</td>\n",
       "      <td>15379.0</td>\n",
       "      <td>17.725470</td>\n",
       "      <td>17.121905</td>\n",
       "      <td>18.329034</td>\n",
       "      <td>0.307941</td>\n",
       "      <td>1.737280</td>\n",
       "    </tr>\n",
       "  </tbody>\n",
       "</table>\n",
       "</div>"
      ],
      "text/plain": [
       "              geoname  numerator  denominator   estimate    ll_95ci  \\\n",
       "1106           Alpine     6576.0      14236.0  46.192751  45.373778   \n",
       "7154           Bonita    12419.0      12538.0  99.050885  98.881166   \n",
       "7262          Bonsall     1609.0       3982.0  40.406831  38.882669   \n",
       "7532  Borrego Springs     1957.0       3429.0  57.072033  55.415293   \n",
       "7586         Bostonia     2726.0      15379.0  17.725470  17.121905   \n",
       "\n",
       "        ul_95ci        se       rse  \n",
       "1106  47.011723  0.417843  0.904564  \n",
       "7154  99.220604  0.086591  9.123379  \n",
       "7262  41.930993  0.777634  1.924510  \n",
       "7532  58.728772  0.845275  1.969055  \n",
       "7586  18.329034  0.307941  1.737280  "
      ]
     },
     "execution_count": 6,
     "metadata": {},
     "output_type": "execute_result"
    }
   ],
   "source": [
    "## Filter for the following conditions:\n",
    "\n",
    "# parks in San Diego County\n",
    "in_sd = parks_raw.county_name == 'San Diego'\n",
    "# considers entire geographical region\n",
    "is_total_region = parks_raw.strata_one_name == 'Total'\n",
    "# considers only total demographic\n",
    "is_total_demo = parks_raw.race_eth_name == 'Total'\n",
    "# has RSE < 30 (recommended by National Standard for Health Statistics)\n",
    "low_rse = parks_raw.rse < 30\n",
    "\n",
    "# apply filters and remove unnecessary columns\n",
    "parks = parks_raw.loc[in_sd & is_total_region & is_total_demo] \\\n",
    "                 .drop(['race_eth_name', 'geotype', 'county_name', 'strata_one_name'], 1)\n",
    "\n",
    "# edit the names of the regions\n",
    "parks = parks.assign(geoname = parks.geoname.str[:-4].str.rstrip(' '))\n",
    "parks.head()"
   ]
  },
  {
   "cell_type": "markdown",
   "metadata": {},
   "source": [
    "## Wikipedia Parsing\n",
    "\n",
    "Parse through the Wikipedia pages of each region and find where the zip codes are stored. Place all strings in the *zips* dataframe. Clean strings by converting into list of available zip codes."
   ]
  },
  {
   "cell_type": "code",
   "execution_count": 7,
   "metadata": {},
   "outputs": [],
   "source": [
    "base_url = 'https://en.wikipedia.org/wiki/{},_California'\n",
    "\n",
    "# prepare the names of all regions to be parsed\n",
    "place_names = parks.geoname\n",
    "\n",
    "# dataframe to store resulting zip codes\n",
    "zips_raw = pd.DataFrame(columns = ['zip_codes'], index = place_names)"
   ]
  },
  {
   "cell_type": "code",
   "execution_count": 8,
   "metadata": {},
   "outputs": [],
   "source": [
    "for place in place_names:\n",
    "    \n",
    "    # format place names\n",
    "    place_url = place.replace(' ','_')\n",
    "    if place_url == 'Spring_Valley':                       # there is a disambiguation page for Spring Valley\n",
    "        place_url = 'Spring_Valley,_San_Diego_County'\n",
    "        \n",
    "    test_url = base_url.format(place_url)\n",
    "    soup = bs(requests.get(test_url).text)\n",
    "    big_table = soup.find('div', id = 'content').find('div', id = 'bodyContent') \\\n",
    "                    .find('div', id = 'mw-content-text') \\\n",
    "                    .find('div', class_ = 'mw-parser-output') \\\n",
    "                    .find('table', class_ = 'infobox geography vcard') \\\n",
    "                    .find_all('tr', class_ = 'mergedtoprow')\n",
    "\n",
    "    zc = ''\n",
    "    for tr in big_table:\n",
    "        if tr.find('td', class_ = 'adr') is None:\n",
    "            continue\n",
    "        zc += tr.find('td').find('div').text\n",
    "\n",
    "    zips_raw.loc[place, 'zip_codes'] = zc\n",
    "    time.sleep(.5)\n"
   ]
  },
  {
   "cell_type": "markdown",
   "metadata": {},
   "source": [
    "### Further Cleaning\n",
    "\n",
    "Some zip codes are given as ranges. Change this to a list of strings."
   ]
  },
  {
   "cell_type": "code",
   "execution_count": 9,
   "metadata": {},
   "outputs": [],
   "source": [
    "def clean_zips(string):\n",
    "    # list of zip codes\n",
    "    zips = string.split(', ')\n",
    "    \n",
    "    new_zs = []\n",
    "    bad_zs = []\n",
    "    for z in zips:\n",
    "        if '–' in z:\n",
    "            z_range = list(map(int, z.split('–')))\n",
    "            new_zs += list(map(str, range(z_range[0], z_range[1]+1)))\n",
    "            bad_zs += [z]\n",
    "        if '-' in z:\n",
    "            z_range = list(map(int, z.split('-')))\n",
    "            new_zs += list(map(str, range(z_range[0], z_range[1]+1)))\n",
    "            bad_zs += [z]\n",
    "\n",
    "    for z in bad_zs:\n",
    "        zips.remove(z)\n",
    "        \n",
    "    return zips + new_zs"
   ]
  },
  {
   "cell_type": "code",
   "execution_count": 10,
   "metadata": {},
   "outputs": [
    {
     "data": {
      "text/html": [
       "<div>\n",
       "<style scoped>\n",
       "    .dataframe tbody tr th:only-of-type {\n",
       "        vertical-align: middle;\n",
       "    }\n",
       "\n",
       "    .dataframe tbody tr th {\n",
       "        vertical-align: top;\n",
       "    }\n",
       "\n",
       "    .dataframe thead th {\n",
       "        text-align: right;\n",
       "    }\n",
       "</style>\n",
       "<table border=\"1\" class=\"dataframe\">\n",
       "  <thead>\n",
       "    <tr style=\"text-align: right;\">\n",
       "      <th></th>\n",
       "      <th>zip_codes</th>\n",
       "    </tr>\n",
       "    <tr>\n",
       "      <th>geoname</th>\n",
       "      <th></th>\n",
       "    </tr>\n",
       "  </thead>\n",
       "  <tbody>\n",
       "    <tr>\n",
       "      <th>Solana Beach</th>\n",
       "      <td>[92075]</td>\n",
       "    </tr>\n",
       "    <tr>\n",
       "      <th>Spring Valley</th>\n",
       "      <td>[91976, 91977, 91978, 91979]</td>\n",
       "    </tr>\n",
       "    <tr>\n",
       "      <th>Valley Center</th>\n",
       "      <td>[92082]</td>\n",
       "    </tr>\n",
       "    <tr>\n",
       "      <th>Vista</th>\n",
       "      <td>[92081, 92083, 92084, 92085]</td>\n",
       "    </tr>\n",
       "    <tr>\n",
       "      <th>Winter Gardens</th>\n",
       "      <td>[92040]</td>\n",
       "    </tr>\n",
       "  </tbody>\n",
       "</table>\n",
       "</div>"
      ],
      "text/plain": [
       "                                   zip_codes\n",
       "geoname                                     \n",
       "Solana Beach                         [92075]\n",
       "Spring Valley   [91976, 91977, 91978, 91979]\n",
       "Valley Center                        [92082]\n",
       "Vista           [92081, 92083, 92084, 92085]\n",
       "Winter Gardens                       [92040]"
      ]
     },
     "execution_count": 10,
     "metadata": {},
     "output_type": "execute_result"
    }
   ],
   "source": [
    "zips = zips_raw.assign(zip_codes = zips_raw.zip_codes.apply(clean_zips))\n",
    "zips.tail()"
   ]
  },
  {
   "cell_type": "markdown",
   "metadata": {},
   "source": [
    "## Joining Data\n",
    "\n",
    "Combine our two original dataframes using the *zips* dataframe."
   ]
  },
  {
   "cell_type": "code",
   "execution_count": 11,
   "metadata": {},
   "outputs": [
    {
     "data": {
      "text/html": [
       "<div>\n",
       "<style scoped>\n",
       "    .dataframe tbody tr th:only-of-type {\n",
       "        vertical-align: middle;\n",
       "    }\n",
       "\n",
       "    .dataframe tbody tr th {\n",
       "        vertical-align: top;\n",
       "    }\n",
       "\n",
       "    .dataframe thead th {\n",
       "        text-align: right;\n",
       "    }\n",
       "</style>\n",
       "<table border=\"1\" class=\"dataframe\">\n",
       "  <thead>\n",
       "    <tr style=\"text-align: right;\">\n",
       "      <th></th>\n",
       "      <th>rating_weighted</th>\n",
       "      <th>total_count</th>\n",
       "    </tr>\n",
       "    <tr>\n",
       "      <th>zip_code</th>\n",
       "      <th></th>\n",
       "      <th></th>\n",
       "    </tr>\n",
       "  </thead>\n",
       "  <tbody>\n",
       "    <tr>\n",
       "      <th>90069</th>\n",
       "      <td>4.5</td>\n",
       "      <td>53.0</td>\n",
       "    </tr>\n",
       "    <tr>\n",
       "      <th>90670</th>\n",
       "      <td>4.0</td>\n",
       "      <td>4.0</td>\n",
       "    </tr>\n",
       "    <tr>\n",
       "      <th>90717</th>\n",
       "      <td>3.5</td>\n",
       "      <td>17.0</td>\n",
       "    </tr>\n",
       "    <tr>\n",
       "      <th>90815</th>\n",
       "      <td>3.5</td>\n",
       "      <td>9.0</td>\n",
       "    </tr>\n",
       "    <tr>\n",
       "      <th>91010</th>\n",
       "      <td>4.5</td>\n",
       "      <td>19.0</td>\n",
       "    </tr>\n",
       "  </tbody>\n",
       "</table>\n",
       "</div>"
      ],
      "text/plain": [
       "          rating_weighted  total_count\n",
       "zip_code                              \n",
       "90069                 4.5         53.0\n",
       "90670                 4.0          4.0\n",
       "90717                 3.5         17.0\n",
       "90815                 3.5          9.0\n",
       "91010                 4.5         19.0"
      ]
     },
     "execution_count": 11,
     "metadata": {},
     "output_type": "execute_result"
    }
   ],
   "source": [
    "# average rating for each region, weighted by number of reviews\n",
    "g = yelp.groupby('zip_code')\n",
    "yelp_weighted = g.apply(lambda x: pd.Series([(x.rating*x.review_count/x.review_count.sum()).sum(), x.review_count.sum()],\n",
    "                                            index = ['rating_weighted', 'total_count']))\n",
    "\n",
    "yelp_weighted.head()"
   ]
  },
  {
   "cell_type": "code",
   "execution_count": 12,
   "metadata": {},
   "outputs": [],
   "source": [
    "# create new dataframe, with one row for each entry\n",
    "temp = zips.reset_index().to_dict('records')\n",
    "new_list = []\n",
    "for dct in temp:\n",
    "    for z in dct['zip_codes']:\n",
    "        if len(z) <= 0:\n",
    "            continue\n",
    "        new_list.append([dct['geoname'], z])\n",
    "df = pd.DataFrame(new_list, columns = ['geoname', 'zip_code'])\n",
    "joined = df.join(yelp_weighted, on = 'zip_code', how = 'outer')\n",
    "\n",
    "in_sd = joined.zip_code.apply(lambda x: int(x) >= 91901 and int(x) <= 92199)\n",
    "joined = joined.loc[in_sd].reset_index(drop = True)\n",
    "\n",
    "joined.iloc[182, 0] = 'Escondido'   # searched zip code in Google\n",
    "joined.drop(index = [183,184,185,186], inplace = True)"
   ]
  },
  {
   "cell_type": "code",
   "execution_count": 15,
   "metadata": {},
   "outputs": [
    {
     "data": {
      "text/plain": [
       "(38, 10)"
      ]
     },
     "execution_count": 15,
     "metadata": {},
     "output_type": "execute_result"
    }
   ],
   "source": [
    "g = joined.groupby('geoname')\n",
    "all_weighted = g.apply(lambda x: pd.Series(\n",
    "        [(x.rating_weighted*x.total_count/x.total_count.sum()).sum(), x.total_count.sum()],\n",
    "                                            index = ['rating_weighted', 'total_count']))\n",
    "\n",
    "final = parks.join(all_weighted, on= 'geoname', how = 'inner')\n",
    "final = final[final.total_count > 0]\n",
    "final.shape"
   ]
  },
  {
   "cell_type": "markdown",
   "metadata": {},
   "source": [
    "We finish with 38 census-designated places that have parks with at least one Yelp review."
   ]
  },
  {
   "cell_type": "markdown",
   "metadata": {},
   "source": [
    "# Data Analysis & Results"
   ]
  },
  {
   "cell_type": "markdown",
   "metadata": {},
   "source": [
    "Plot the scatterplot between the park-access metric and the average rating."
   ]
  },
  {
   "cell_type": "code",
   "execution_count": 312,
   "metadata": {},
   "outputs": [
    {
     "data": {
      "image/png": "[encoded data removed]",
      "text/plain": [
       "<Figure size 648x360 with 1 Axes>"
      ]
     },
     "metadata": {
      "needs_background": "light"
     },
     "output_type": "display_data"
    }
   ],
   "source": [
    "plt.figure(figsize = (9,5))\n",
    "plt.title('Comparing Park Accessibilty to Average Park Rating', size = 15, loc = 'left')\n",
    "plt.xlabel('Park Accessibility (% pop. within 1/2 mile of park)', size = 12)\n",
    "plt.ylabel('Average Yelp Rating', size = 12)\n",
    "\n",
    "x = final.estimate\n",
    "y = final.rating_weighted\n",
    "plt.scatter(x,y, s = 100)\n",
    "\n",
    "outlier1 = final.query('estimate < 10')\n",
    "plt.scatter(outlier1.estimate, outlier1.rating_weighted, color = 'magenta', s = 100)\n",
    "outlier2 = final.query('rating_weighted < 2.5')\n",
    "plt.scatter(outlier2.estimate, outlier2.rating_weighted, color = 'orange', s = 100)\n",
    "\n",
    "plt.show()"
   ]
  },
  {
   "cell_type": "markdown",
   "metadata": {},
   "source": [
    "Superficially, we see a roughly horizontal distribution of points, in line with our hypothesis. We first examine outliers. There is one point, labeled pink, with an extremely low park accessibility but with a moderate average rating. There are also two regions, labeled orange, with particularly low ratings, despite high park-accessibity.\n",
    "\n",
    "The first outlier corresponds to Hidden Meadows, CA. A quick Google search show that it is a town located deep within the Merriam Mountains, potentially explaining its low park-accessibility.\n",
    "\n",
    "The second set of outliers comes from Lamar Park in Spring Valley. It's zip code actually places it in 2 census-divided regions, which is why the data point appears twice in the scatterplot. We note the duplicate points are not redundant, but rather represent two communities with similar access to the same park.\n",
    "\n",
    "Neither set of outliers seems to be a mistaken entry, so we leave the data as is and continue with the analysis."
   ]
  },
  {
   "cell_type": "code",
   "execution_count": 313,
   "metadata": {},
   "outputs": [
    {
     "data": {
      "image/png": "[encoded data removed]",
      "text/plain": [
       "<Figure size 648x360 with 1 Axes>"
      ]
     },
     "metadata": {
      "needs_background": "light"
     },
     "output_type": "display_data"
    },
    {
     "name": "stdout",
     "output_type": "stream",
     "text": [
      "R^2 for linear regression: 0.0262\n",
      "R^2 for quadratic regression: 0.027\n"
     ]
    }
   ],
   "source": [
    "plt.figure(figsize = (9,5))\n",
    "plt.title('Applying Linear and Quadratic Regressions', size = 15, loc = 'left')\n",
    "plt.xlabel('Park Accessibility (% pop. within 1/2 mile of park)', size = 12)\n",
    "plt.ylabel('Average Yelp Rating', size = 12)\n",
    "\n",
    "x = np.linspace(0,100)\n",
    "X = final.estimate\n",
    "Y = final.rating_weighted\n",
    "plt.scatter(X, Y, color = 'gray', s = 80)\n",
    "\n",
    "b_1, b_0, r, p, se = stat.linregress(X,Y)\n",
    "plt.plot(x, b_0 + b_1* x, 'darkblue')\n",
    "r_linear = sklearn.metrics.r2_score(Y, b_0 + b_1* X)\n",
    "\n",
    "p = np.polyfit(X, Y, 2)\n",
    "plt.plot(x, p[0]* x**2 + p[1]*x + p[2], color = 'red')\n",
    "r_quad = sklearn.metrics.r2_score(Y, p[0]* X**2 + p[1]*X + p[2])\n",
    "\n",
    "plt.show()\n",
    "print('R^2 for linear regression: {}'.format(np.round(r_linear, 4)))\n",
    "print('R^2 for quadratic regression: {}'.format(np.round(r_quad, 4)))"
   ]
  },
  {
   "cell_type": "markdown",
   "metadata": {},
   "source": [
    "Neither regression model is very promising, but that could be due to the small number of samples, a result of uncommmon parks having no reviews in Yelp.\n",
    "\n",
    "We continue analysis on the relation ship between park accessibility and the number of Yelp Reviews, by region."
   ]
  },
  {
   "cell_type": "code",
   "execution_count": 321,
   "metadata": {},
   "outputs": [
    {
     "data": {
      "image/png": "[encoded data removed]",
      "text/plain": [
       "<Figure size 576x432 with 1 Axes>"
      ]
     },
     "metadata": {
      "needs_background": "light"
     },
     "output_type": "display_data"
    }
   ],
   "source": [
    "plt.figure(figsize = (8,6))\n",
    "plt.title('Comparing Accessibility and Number of Yelp Reviews', size = 15, loc = 'left')\n",
    "\n",
    "p = sns.scatterplot(final['estimate'], final['total_count'], color = 'darkgreen', s = 80)\n",
    "plt.text(85, 40898, \"This is 'San Diego', recognized by the \\n census as one geographical unit\", \n",
    "         horizontalalignment='right', size= 11, color='black', weight='normal')\n",
    "plt.arrow(86.5,  70000, 4, 40000)\n",
    "\n",
    "plt.xlabel('Park Accessibility (% pop. within 1/2 mile of park)', size = 12)\n",
    "plt.ylabel('Number of Yelp Ratings', size = 12)\n",
    "p.set(yscale= 'log')\n",
    "plt.show()"
   ]
  },
  {
   "cell_type": "markdown",
   "metadata": {},
   "source": [
    "The above scatterplot is on a log-scale, because the number of Yelp ratings is largely based on population, which differs greatly throughout San Diego county. Additionally, the provided census data classifies the populous 'San Diego' area with its 36 zip codes as one region, accumulating much of the insightful population information within one data point, and placing it over an order of magnitude above the other regions. An improved and likely more successful analysis would be possible if the data were further subdivided. Unfortunately, the given data does not offer such granularity."
   ]
  },
  {
   "cell_type": "markdown",
   "metadata": {},
   "source": [
    "# Ethics & Privacy"
   ]
  },
  {
   "cell_type": "markdown",
   "metadata": {},
   "source": [
    "Since most of the parks listed are likely government property, this project saw little use of any personally identifying information. The Yelp dataset did include phone numbers for the listings, but those were likely public phone numbers as well. The usually notable privacy concern is the heavy usage of zip codes in our data. Typically, one would remove the last two digits of the zip code to avoid any risks of identification. This procedure was initially considered, but ultimately rejected since zip codes were representative of public areas rather than personal households. Also, as our data analysis shows, our final dataset left much to be desired in granularity. Clustering data points further would only exacerbate this problem.\n",
    "\n",
    "The dataset about park accessibility seems to be free of bias. It originates from the California department of public health and contains accounts for potential discrepancies in different racial/ethnic groups. However, any observations about those sensitivities are absent in this project, since our data was aggregated before our analysis. Therefore, we run the risk of over-generalizing and maintain that the results of this project represent only a blanket observation within the county of San Diego. On the other hand, the Yelp dataset is collected from a much less objective and organized source. Online reviews could disproportionately represent the concerns of individuals with ready access to technology, minimizing lower-income, even homeless populations for whom parks are equally impactful. Thus, any conclusions drawn from this paper necessitate further representative research."
   ]
  },
  {
   "cell_type": "markdown",
   "metadata": {},
   "source": [
    "# Conclusion & Discussion"
   ]
  },
  {
   "cell_type": "markdown",
   "metadata": {},
   "source": [
    "This project examined the relationship between park-accessibility and public perception of those parks within regions of San Diego County. To do this, data was gathered from the California Department of Public Health, that estimated the proportion of the population within 1/2 a mile to a public park, as well as Yelp reviews of parks across San Diego. Using the parks' zip codes and the zip codes of each census designated place scraped from Wikipedia, we aggregated park ratings for each region and compared it to the region's park accessibility. Both linear and quadratic regressions were conducted, but neither yielded a large enough R^2 value to refute the hypothesis. We conclude that higher accessibility does not imply a greater perception of parks in San Diego. \n",
    "\n",
    "This result, however, is limited to the sentiment of Yelp reviews and their representation of the San Diego population. The conclusions are also limited by the relatively low sample size, likely due to the scarcity of Yelp reviews in less populous areas of San Diego. Even with 58 districts to begin with, many either lacked parks or lacked park ratings, and were omitted from our analysis. Accounting for the limitations, the results indeed confirmed the hypothesis that park ratings not dependent on park accessibility. This observation could imply that the residents of San Diego are indifferent to their cities' public parks, despite their numerous demonstrated benefits. \n"
   ]
  }
 ],
 "metadata": {
  "kernelspec": {
   "display_name": "Python 3",
   "language": "python",
   "name": "python3"
  },
  "language_info": {
   "codemirror_mode": {
    "name": "ipython",
    "version": 3
   },
   "file_extension": ".py",
   "mimetype": "text/x-python",
   "name": "python",
   "nbconvert_exporter": "python",
   "pygments_lexer": "ipython3",
   "version": "3.7.4"
  }
 },
 "nbformat": 4,
 "nbformat_minor": 2
}
