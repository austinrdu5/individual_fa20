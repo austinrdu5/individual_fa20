{
 "cells": [
  {
   "cell_type": "markdown",
   "metadata": {},
   "source": [
    "# COGS 108 - Project Proposal"
   ]
  },
  {
   "cell_type": "markdown",
   "metadata": {},
   "source": [
    "# Names & GitHub ID\n",
    "\n",
    "- Name: Austin Du\n",
    "- GitHub Username: austinrdu5"
   ]
  },
  {
   "cell_type": "markdown",
   "metadata": {},
   "source": [
    "# Research Question"
   ]
  },
  {
   "cell_type": "markdown",
   "metadata": {},
   "source": [
    "Will the establishment of additional parks within San Diego increase local property values? Given demands based on population, housing density, accessibility, and environment, where should the next parks in San Diego be constructed?"
   ]
  },
  {
   "cell_type": "markdown",
   "metadata": {},
   "source": [
    "## Background and Prior Work"
   ]
  },
  {
   "cell_type": "markdown",
   "metadata": {},
   "source": [
    "Conclusions about the impact of parks on housing vary quite a bit, likely because of diversity within park types, housing types, and metrics for measuring value. A cursory consideration of park benefits might lead one to believe that access to parks serves as a strict benefit, but improperly placed parks could result in \"congestion, street parking, litter and vandalism, noise and intrusive ballfield lights\" [3]. According to a general overview of such studies, most (30 out of 33) report an increase in property values due to park proximity. [3] Another source cites a \"5% increase in property values for houses within 500 feet of a park.\" [2] In the context of capital investment, a look into parks' impact on property taxes conclude that most parks demonstrate a \"proximate principle\" where the increase in local property taxes underwrite the inital expenditures of the park. [4]\n",
    "\n",
    "While these insights suggest the positive impacts of parks, and while San Diego does not have immediate reason to stray from this norm, it is important to perform regional analysis within the county to produce local results and determine the extent of the impacts. A map provided by the San Diego County [1] visualizes park proximity within San Diego as well as the distinct park types within the county. Geospatial data of parks and recreational facilities are also provided online and would ease accurate calculation of city distances.\n",
    "\n",
    "References (include links):\n",
    "- 1) https://www.sandiego.gov/complete-communities/parks-master-plan\n",
    "- 2) https://conservationtools.org/guides/98-economic-benefits-of-parks#:~:text=Proximity%20to%20parks%20increases%20property,to%20proximity%20to%20a%20park.\n",
    "- 3) https://www.nrpa.org/parks-recreation-magazine/2020/april/how-much-impact-do-parks-have-on-property-values/\n",
    "- 4) https://www.researchgate.net/publication/285974700_The_Impact_of_Parks_on_Property_Values_A_Review_of_the_Empirical_Evidence"
   ]
  },
  {
   "cell_type": "markdown",
   "metadata": {},
   "source": [
    "# Hypothesis\n"
   ]
  },
  {
   "cell_type": "markdown",
   "metadata": {},
   "source": [
    "On average, the parks within San Diego do increase property values near the park, but likely by a lower percentage, given the already-high property values intrinsic to the city. Both the age and the relative affluence of the city lead me to beleive that many ideal park locations have already been implemented. Thus, the places most likely to be wanting in new parks or recreational activities would be newly established neighborhoods."
   ]
  },
  {
   "cell_type": "markdown",
   "metadata": {},
   "source": [
    "# Data"
   ]
  },
  {
   "cell_type": "markdown",
   "metadata": {},
   "source": [
    "*Explain what the ideal dataset you would want to answer this question. (This should include: What variables? How many observations? Who/what/how would these data be collected? How would these data be stored/organized?)*\n",
    "\n",
    "I would need geospatial data of San Diego parks, along with tabular data about the parks. The variables could be positional coordinates, type of park, size of park, number of amenities offered, year of construction, price of construction, duration of construction. The dataset should optimally include every municipally recognized park in San Diego, so about 40 rows. Such data should be managed by San Diego County, or their Parks and Rec department. Geospatial data should be provided in shapefile format. A simple table would siffice for the rest.\n",
    "\n",
    "For housing prices, I would optimally have data on all residential properties within San Diego. Columns would include: location (x and y), current price, initial price, sqft., type of housing, backyard, size of garage, time to walk to nearest park, time to drive to nearest park, and property tax. There will be a lot of rows. 1,233,777 rows. To make this number more feasible, I could 1.) randomly sample a workable, representative amount or 2.) select all houses within [N distance] from the nearest park and sample from units outside of that group as a control. All data would be tabular."
   ]
  },
  {
   "cell_type": "markdown",
   "metadata": {},
   "source": [
    "# Ethics & Privacy"
   ]
  },
  {
   "cell_type": "markdown",
   "metadata": {},
   "source": [
    "*Fill in your ethics & privacy discussion here*\n",
    "\n",
    "Most of the data about park will be public. However, some data about housing prices could be less publically available, as they likely pertain to the real residents of the unit. Housing prices are also representative of the communities they represent, and may be biased. It may be that more wealthy families live near parks and results from this analysis are only applicable to them.\n",
    "\n",
    "To account for this, a clustering of property values could be used to identify any non-homogeneous trends in the data. Multiple analyses could be conducted on these clusters and be compared to the aggregate analysis. Any discrepancies will be noted and will warrant further research. \n",
    "\n",
    "In genearl, the suggestion of new park locations must not be based on change in property values alone. To use purely financial data to support this decision implies that the Parks and Recreation department focuses solely on financial causes. In reality, this decision must scrutinize aspects of community, public perception, and availibility that all warrant their own data anlysis that surpasses the scope of this project."
   ]
  }
 ],
 "metadata": {
  "kernelspec": {
   "display_name": "Python 3",
   "language": "python",
   "name": "python3"
  },
  "language_info": {
   "codemirror_mode": {
    "name": "ipython",
    "version": 3
   },
   "file_extension": ".py",
   "mimetype": "text/x-python",
   "name": "python",
   "nbconvert_exporter": "python",
   "pygments_lexer": "ipython3",
   "version": "3.7.4"
  }
 },
 "nbformat": 4,
 "nbformat_minor": 2
}
